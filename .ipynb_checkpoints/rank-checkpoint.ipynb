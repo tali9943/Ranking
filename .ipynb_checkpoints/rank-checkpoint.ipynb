{
 "cells": [
  {
   "cell_type": "markdown",
   "id": "0b7d86ce",
   "metadata": {},
   "source": [
    "# Ranking"
   ]
  },
  {
   "cell_type": "markdown",
   "id": "7cfbb2d2",
   "metadata": {},
   "source": [
    "Second Assignement of Learning with Massive Data. \n"
   ]
  },
  {
   "cell_type": "markdown",
   "id": "9b6cb979",
   "metadata": {},
   "source": [
    "# Usefull Function"
   ]
  },
  {
   "cell_type": "code",
   "execution_count": 1,
   "id": "1b86d95d",
   "metadata": {},
   "outputs": [],
   "source": [
    "import pandas as pd\n",
    "\n",
    "def score_table(score):\n",
    "    df = pd.DataFrame(score)\n",
    "\n",
    "    df.index = [\"Query \" + str(i+1) for i in range(len(df.index))]\n",
    "    df.columns = [\"Document \" + str(i+1) for i in range(len(df.columns))]\n",
    "\n",
    "    return df\n"
   ]
  },
  {
   "cell_type": "code",
   "execution_count": 2,
   "id": "26dd9783",
   "metadata": {},
   "outputs": [],
   "source": [
    "import json\n",
    "import numpy as np\n",
    "import string\n",
    "\n",
    "path_name_documents = './Databases/prova/gigi.jsonl'\n",
    "path_name_query = './Databases/prova/query.jsonl'\n",
    "\n",
    "\n",
    "def readFile(path_name):\n",
    "    # Load the JSONL file into a list\n",
    "    with open(path_name, 'r') as f:\n",
    "        lines = f.readlines()\n",
    "\n",
    "    # Convert each JSON object into a dictionary\n",
    "    dicts = [json.loads(line) for line in lines]\n",
    "\n",
    "    # Convert the dictionaries into arrays and stack them vertically\n",
    "    arrays = np.vstack([np.array(list(d.values())) for d in dicts])\n",
    "\n",
    "    # Convert the arrays into a list of lists\n",
    "    text = arrays.tolist()\n",
    "    \n",
    "    return text\n",
    "\n",
    "documents = readFile(path_name_documents)\n",
    "queries = readFile(path_name_query)\n"
   ]
  },
  {
   "cell_type": "markdown",
   "id": "ade98943",
   "metadata": {},
   "source": [
    "# Tokenize"
   ]
  },
  {
   "cell_type": "code",
   "execution_count": 3,
   "id": "a2820a5b",
   "metadata": {
    "scrolled": false
   },
   "outputs": [],
   "source": [
    "import json\n",
    "import nltk\n",
    "import re\n",
    "import string\n",
    "from nltk.tokenize import word_tokenize\n",
    "from nltk.corpus import stopwords\n",
    "from nltk.stem import PorterStemmer, WordNetLemmatizer\n",
    "\n",
    "\n",
    "stop_words = set(stopwords.words('english'))\n",
    "\n",
    "def stemmingLemming(filtered_tokens):\n",
    "    stemmer = PorterStemmer()\n",
    "    lemmatizer = WordNetLemmatizer()\n",
    "\n",
    "    # Perform stemming or lemmatization on filtered tokens\n",
    "    \n",
    "    filtered_tokens = [lemmatizer.lemmatize(token) for token in filtered_tokens]\n",
    "    filtered_tokens = [stemmer.stem(token) for token in filtered_tokens]\n",
    "\n",
    "    return filtered_tokens\n",
    "    \n",
    " \n",
    "    \n",
    "\n",
    "def tokenize(path_name):\n",
    "    \n",
    "    with open(path_name, \"r\") as f:\n",
    "        data = f.readlines()\n",
    "\n",
    "        # Create an empty list to store the tokenized documents\n",
    "        tokenized_docs = []\n",
    "\n",
    "        # Loop through each line in the JSONL file\n",
    "        for line in data:\n",
    "            # Parse the JSON string into a Python dictionary\n",
    "            doc = json.loads(line)\n",
    "\n",
    "            # Extract the text from the dictionary\n",
    "            text = doc['text']\n",
    "            text = text.lower()  # Convert to lowercase\n",
    "            #text = re.sub(r'\\d+', '', text)  # Remove all numbers\n",
    "            text = text.translate(str.maketrans('', '', string.punctuation))  # Remove all punctuation\n",
    "\n",
    "            # Tokenize the text using NLTK\n",
    "            tokens = word_tokenize(text)\n",
    "            tokensStemLem = stemmingLemming(tokens)\n",
    "\n",
    "            # Add the tokenized document to the list\n",
    "            tokenized_docs.append(tokensStemLem)\n",
    "\n",
    "        # Print the tokenized documents\n",
    "    return tokenized_docs\n",
    "\n",
    "tokenized_docs = tokenize(path_name_documents)\n",
    "\n",
    "\n",
    "tokenized_query = tokenize(path_name_query)\n",
    "\n",
    "\n"
   ]
  },
  {
   "cell_type": "markdown",
   "id": "00052125",
   "metadata": {},
   "source": [
    "# Sparse Vectors\n",
    "\n"
   ]
  },
  {
   "cell_type": "markdown",
   "id": "66fac39c",
   "metadata": {},
   "source": [
    "# TF-IDF "
   ]
  },
  {
   "cell_type": "code",
   "execution_count": 4,
   "id": "73a901f4",
   "metadata": {
    "scrolled": false
   },
   "outputs": [
    {
     "name": "stderr",
     "output_type": "stream",
     "text": [
      "C:\\Users\\lita4\\anaconda3\\lib\\site-packages\\sklearn\\utils\\deprecation.py:87: FutureWarning: Function get_feature_names is deprecated; get_feature_names is deprecated in 1.0 and will be removed in 1.2. Please use get_feature_names_out instead.\n",
      "  warnings.warn(msg, category=FutureWarning)\n"
     ]
    }
   ],
   "source": [
    "from sklearn.feature_extraction.text import TfidfVectorizer\n",
    "\n",
    "def calculateTFIDF(tokenized_docs):\n",
    "    # Initialize the TfidfVectorizer\n",
    "    vectorizer = TfidfVectorizer()\n",
    "\n",
    "    # Fit and transform the tokenized documents into a TF-IDF matrix\n",
    "    tfidf_matrix = vectorizer.fit_transform([' '.join(doc) for doc in tokenized_docs])\n",
    "\n",
    "    # Get the feature names (tokens)\n",
    "    feature_names = vectorizer.get_feature_names()\n",
    "\n",
    "    # Return the TF-IDF matrix and the feature names\n",
    "    return tfidf_matrix, feature_names,vectorizer\n",
    " \n",
    "    \n",
    "    \n",
    "def calculateTFIDFQuery(tokenized_query,vectorizer):\n",
    "    \n",
    "    # Fit and transform the tokenized documents into a TF-IDF matrix\n",
    "    tfidf_matrix = vectorizer.transform([' '.join(doc) for doc in tokenized_query])\n",
    "\n",
    "    # Get the feature names (tokens)\n",
    "    feature_names = vectorizer.get_feature_names()\n",
    "\n",
    "    # Return the TF-IDF matrix and the feature names\n",
    "    return tfidf_matrix, feature_names\n",
    "\n",
    "    \n",
    "\n",
    "tfidf_matrix_docs, feature_names_docs,vectorizer  = calculateTFIDF(tokenized_docs)\n",
    "tfidf_matrix_query, feature_names_query  = calculateTFIDFQuery( tokenized_query,vectorizer)\n"
   ]
  },
  {
   "cell_type": "markdown",
   "id": "028e1b30",
   "metadata": {},
   "source": [
    "# Dot Product for Sparse Vectors"
   ]
  },
  {
   "cell_type": "code",
   "execution_count": 5,
   "id": "92de26cf",
   "metadata": {},
   "outputs": [
    {
     "name": "stdout",
     "output_type": "stream",
     "text": [
      "[[0.18814208644069141, 0.33933990533577935, 0.13560874763494904, 0.3664275073457122, 0.37700842205641716, 0.21497994496187967, 0.16838125469128457, 0.218125078598137, 0.0975490133688652, 0.3349435769159468, 0.18814208644069141], [0.22491358017656699, 0.1492127993994314, 0.10267125124219378, 0.19910949239594666, 0.2256525556007502, 0.07907883981614139, 0.17152278627797812, 0.14768053202783524, 0.2294239320380127, 0.15781821356506004, 0.22491358017656699], [0.037955266788926634, 0.015821364844910025, 0.09098290919785915, 0.018306756488451155, 0.09411624307911748, 0.0578772033840427, 0.0942715213793465, 0.006930357337788915, 0.027940751768459223, 0.016733816040142315, 0.037955266788926634], [0.021957283860775365, 0.0, 0.026377225692876035, 0.0, 0.016987194899028817, 0.0, 0.08904339776606349, 0.052128511810284994, 0.0, 0.0, 0.021957283860775365], [0.0612672909000269, 0.015065049582750737, 0.010017452484352348, 0.05272447083422632, 0.04870300863824418, 0.12134277312006807, 0.0186575488035574, 0.04087723846024625, 0.08351177747694327, 0.015933882495256197, 0.0612672909000269], [0.07402380049769372, 0.06226392862472562, 0.034060343084580794, 0.09620275118095387, 0.08301434213347701, 0.10176581581562774, 0.03671987936732947, 0.04487494925660965, 0.05571607233222102, 0.05644698822073638, 0.07402380049769372], [0.07657887218439834, 0.01666205702213564, 0.030792375320572114, 0.11532307578081427, 0.130225210923633, 0.03532179929775915, 0.15945571013532905, 0.09325516386816032, 0.13741205498149178, 0.017622992693230255, 0.07657887218439834], [0.20729699840594143, 0.22087278712303346, 0.10131966118432498, 0.287763322643079, 0.2563840119363648, 0.1872230117928662, 0.17345582361882214, 0.14112925469384022, 0.13101951334874107, 0.20023798511268487, 0.20729699840594143]]\n"
     ]
    },
    {
     "data": {
      "text/html": [
       "<div>\n",
       "<style scoped>\n",
       "    .dataframe tbody tr th:only-of-type {\n",
       "        vertical-align: middle;\n",
       "    }\n",
       "\n",
       "    .dataframe tbody tr th {\n",
       "        vertical-align: top;\n",
       "    }\n",
       "\n",
       "    .dataframe thead th {\n",
       "        text-align: right;\n",
       "    }\n",
       "</style>\n",
       "<table border=\"1\" class=\"dataframe\">\n",
       "  <thead>\n",
       "    <tr style=\"text-align: right;\">\n",
       "      <th></th>\n",
       "      <th>Document 1</th>\n",
       "      <th>Document 2</th>\n",
       "      <th>Document 3</th>\n",
       "      <th>Document 4</th>\n",
       "      <th>Document 5</th>\n",
       "      <th>Document 6</th>\n",
       "      <th>Document 7</th>\n",
       "      <th>Document 8</th>\n",
       "      <th>Document 9</th>\n",
       "      <th>Document 10</th>\n",
       "      <th>Document 11</th>\n",
       "    </tr>\n",
       "  </thead>\n",
       "  <tbody>\n",
       "    <tr>\n",
       "      <th>Query 1</th>\n",
       "      <td>0.188142</td>\n",
       "      <td>0.339340</td>\n",
       "      <td>0.135609</td>\n",
       "      <td>0.366428</td>\n",
       "      <td>0.377008</td>\n",
       "      <td>0.214980</td>\n",
       "      <td>0.168381</td>\n",
       "      <td>0.218125</td>\n",
       "      <td>0.097549</td>\n",
       "      <td>0.334944</td>\n",
       "      <td>0.188142</td>\n",
       "    </tr>\n",
       "    <tr>\n",
       "      <th>Query 2</th>\n",
       "      <td>0.224914</td>\n",
       "      <td>0.149213</td>\n",
       "      <td>0.102671</td>\n",
       "      <td>0.199109</td>\n",
       "      <td>0.225653</td>\n",
       "      <td>0.079079</td>\n",
       "      <td>0.171523</td>\n",
       "      <td>0.147681</td>\n",
       "      <td>0.229424</td>\n",
       "      <td>0.157818</td>\n",
       "      <td>0.224914</td>\n",
       "    </tr>\n",
       "    <tr>\n",
       "      <th>Query 3</th>\n",
       "      <td>0.037955</td>\n",
       "      <td>0.015821</td>\n",
       "      <td>0.090983</td>\n",
       "      <td>0.018307</td>\n",
       "      <td>0.094116</td>\n",
       "      <td>0.057877</td>\n",
       "      <td>0.094272</td>\n",
       "      <td>0.006930</td>\n",
       "      <td>0.027941</td>\n",
       "      <td>0.016734</td>\n",
       "      <td>0.037955</td>\n",
       "    </tr>\n",
       "    <tr>\n",
       "      <th>Query 4</th>\n",
       "      <td>0.021957</td>\n",
       "      <td>0.000000</td>\n",
       "      <td>0.026377</td>\n",
       "      <td>0.000000</td>\n",
       "      <td>0.016987</td>\n",
       "      <td>0.000000</td>\n",
       "      <td>0.089043</td>\n",
       "      <td>0.052129</td>\n",
       "      <td>0.000000</td>\n",
       "      <td>0.000000</td>\n",
       "      <td>0.021957</td>\n",
       "    </tr>\n",
       "    <tr>\n",
       "      <th>Query 5</th>\n",
       "      <td>0.061267</td>\n",
       "      <td>0.015065</td>\n",
       "      <td>0.010017</td>\n",
       "      <td>0.052724</td>\n",
       "      <td>0.048703</td>\n",
       "      <td>0.121343</td>\n",
       "      <td>0.018658</td>\n",
       "      <td>0.040877</td>\n",
       "      <td>0.083512</td>\n",
       "      <td>0.015934</td>\n",
       "      <td>0.061267</td>\n",
       "    </tr>\n",
       "    <tr>\n",
       "      <th>Query 6</th>\n",
       "      <td>0.074024</td>\n",
       "      <td>0.062264</td>\n",
       "      <td>0.034060</td>\n",
       "      <td>0.096203</td>\n",
       "      <td>0.083014</td>\n",
       "      <td>0.101766</td>\n",
       "      <td>0.036720</td>\n",
       "      <td>0.044875</td>\n",
       "      <td>0.055716</td>\n",
       "      <td>0.056447</td>\n",
       "      <td>0.074024</td>\n",
       "    </tr>\n",
       "    <tr>\n",
       "      <th>Query 7</th>\n",
       "      <td>0.076579</td>\n",
       "      <td>0.016662</td>\n",
       "      <td>0.030792</td>\n",
       "      <td>0.115323</td>\n",
       "      <td>0.130225</td>\n",
       "      <td>0.035322</td>\n",
       "      <td>0.159456</td>\n",
       "      <td>0.093255</td>\n",
       "      <td>0.137412</td>\n",
       "      <td>0.017623</td>\n",
       "      <td>0.076579</td>\n",
       "    </tr>\n",
       "    <tr>\n",
       "      <th>Query 8</th>\n",
       "      <td>0.207297</td>\n",
       "      <td>0.220873</td>\n",
       "      <td>0.101320</td>\n",
       "      <td>0.287763</td>\n",
       "      <td>0.256384</td>\n",
       "      <td>0.187223</td>\n",
       "      <td>0.173456</td>\n",
       "      <td>0.141129</td>\n",
       "      <td>0.131020</td>\n",
       "      <td>0.200238</td>\n",
       "      <td>0.207297</td>\n",
       "    </tr>\n",
       "  </tbody>\n",
       "</table>\n",
       "</div>"
      ],
      "text/plain": [
       "         Document 1  Document 2  Document 3  Document 4  Document 5  \\\n",
       "Query 1    0.188142    0.339340    0.135609    0.366428    0.377008   \n",
       "Query 2    0.224914    0.149213    0.102671    0.199109    0.225653   \n",
       "Query 3    0.037955    0.015821    0.090983    0.018307    0.094116   \n",
       "Query 4    0.021957    0.000000    0.026377    0.000000    0.016987   \n",
       "Query 5    0.061267    0.015065    0.010017    0.052724    0.048703   \n",
       "Query 6    0.074024    0.062264    0.034060    0.096203    0.083014   \n",
       "Query 7    0.076579    0.016662    0.030792    0.115323    0.130225   \n",
       "Query 8    0.207297    0.220873    0.101320    0.287763    0.256384   \n",
       "\n",
       "         Document 6  Document 7  Document 8  Document 9  Document 10  \\\n",
       "Query 1    0.214980    0.168381    0.218125    0.097549     0.334944   \n",
       "Query 2    0.079079    0.171523    0.147681    0.229424     0.157818   \n",
       "Query 3    0.057877    0.094272    0.006930    0.027941     0.016734   \n",
       "Query 4    0.000000    0.089043    0.052129    0.000000     0.000000   \n",
       "Query 5    0.121343    0.018658    0.040877    0.083512     0.015934   \n",
       "Query 6    0.101766    0.036720    0.044875    0.055716     0.056447   \n",
       "Query 7    0.035322    0.159456    0.093255    0.137412     0.017623   \n",
       "Query 8    0.187223    0.173456    0.141129    0.131020     0.200238   \n",
       "\n",
       "         Document 11  \n",
       "Query 1     0.188142  \n",
       "Query 2     0.224914  \n",
       "Query 3     0.037955  \n",
       "Query 4     0.021957  \n",
       "Query 5     0.061267  \n",
       "Query 6     0.074024  \n",
       "Query 7     0.076579  \n",
       "Query 8     0.207297  "
      ]
     },
     "execution_count": 5,
     "metadata": {},
     "output_type": "execute_result"
    }
   ],
   "source": [
    "import numpy as np\n",
    "\n",
    "\n",
    "def calculate_Dot_Product_Sparse(tfidf_matrix_docs, tfidf_matrix_query):\n",
    "    matrix_docs = tfidf_matrix_docs.toarray()\n",
    "    matrix_query = tfidf_matrix_query.toarray()\n",
    "    num_queries = matrix_query.shape[0]\n",
    "    num_docs = matrix_docs.shape[0]\n",
    "    sparse_score_results = []\n",
    "    \n",
    "    for query in range(num_queries):\n",
    "        sparse_score_docs = []\n",
    "        for doc in range(num_docs):\n",
    "            dot_result = np.dot(matrix_query[query], matrix_docs[doc])\n",
    "            sparse_score_docs.append(dot_result)\n",
    "        sparse_score_results.append(sparse_score_docs)\n",
    "        \n",
    "    return sparse_score_results\n",
    "\n",
    "\n",
    "\n",
    "sparse_score_results = calculate_Dot_Product_Sparse(tfidf_matrix_docs,tfidf_matrix_query)\n",
    "\n",
    "print(sparse_score_results)\n",
    "\n",
    "sparse_score_table = score_table(sparse_score_results)\n",
    "sparse_score_table\n",
    "    \n"
   ]
  },
  {
   "cell_type": "markdown",
   "id": "131a3cc7",
   "metadata": {},
   "source": [
    "# Dense Vector"
   ]
  },
  {
   "cell_type": "code",
   "execution_count": 6,
   "id": "567aef90",
   "metadata": {
    "scrolled": false
   },
   "outputs": [],
   "source": [
    "\n",
    "from sentence_transformers import SentenceTransformer\n",
    "\n",
    "def create_dense_vector(document):\n",
    "    # Load the all-MiniLM-L6-v2 model\n",
    "    model = SentenceTransformer('all-MiniLM-L6-v2')\n",
    "    \n",
    "    # Create a dense vector representation of the document\n",
    "    dense_vector = model.encode(document, convert_to_tensor=True)\n",
    "    \n",
    "    \n",
    "    return dense_vector\n",
    "\n",
    "\n",
    "dense_vector_document = create_dense_vector(documents)\n",
    "dense_vector_query = create_dense_vector(queries)\n",
    "\n",
    "\n"
   ]
  },
  {
   "cell_type": "markdown",
   "id": "5adc5ce1",
   "metadata": {},
   "source": [
    "# Dot Product for Dense Vector"
   ]
  },
  {
   "cell_type": "code",
   "execution_count": 7,
   "id": "cbb07163",
   "metadata": {
    "scrolled": false
   },
   "outputs": [
    {
     "data": {
      "text/html": [
       "<div>\n",
       "<style scoped>\n",
       "    .dataframe tbody tr th:only-of-type {\n",
       "        vertical-align: middle;\n",
       "    }\n",
       "\n",
       "    .dataframe tbody tr th {\n",
       "        vertical-align: top;\n",
       "    }\n",
       "\n",
       "    .dataframe thead th {\n",
       "        text-align: right;\n",
       "    }\n",
       "</style>\n",
       "<table border=\"1\" class=\"dataframe\">\n",
       "  <thead>\n",
       "    <tr style=\"text-align: right;\">\n",
       "      <th></th>\n",
       "      <th>Document 1</th>\n",
       "      <th>Document 2</th>\n",
       "      <th>Document 3</th>\n",
       "      <th>Document 4</th>\n",
       "      <th>Document 5</th>\n",
       "      <th>Document 6</th>\n",
       "      <th>Document 7</th>\n",
       "      <th>Document 8</th>\n",
       "      <th>Document 9</th>\n",
       "      <th>Document 10</th>\n",
       "      <th>Document 11</th>\n",
       "    </tr>\n",
       "  </thead>\n",
       "  <tbody>\n",
       "    <tr>\n",
       "      <th>Query 1</th>\n",
       "      <td>0.077958</td>\n",
       "      <td>0.038245</td>\n",
       "      <td>0.133962</td>\n",
       "      <td>0.106983</td>\n",
       "      <td>0.226969</td>\n",
       "      <td>0.126819</td>\n",
       "      <td>0.324864</td>\n",
       "      <td>0.217792</td>\n",
       "      <td>0.038656</td>\n",
       "      <td>0.038245</td>\n",
       "      <td>0.077958</td>\n",
       "    </tr>\n",
       "    <tr>\n",
       "      <th>Query 2</th>\n",
       "      <td>0.099590</td>\n",
       "      <td>0.070468</td>\n",
       "      <td>0.066888</td>\n",
       "      <td>0.096966</td>\n",
       "      <td>0.279706</td>\n",
       "      <td>0.121130</td>\n",
       "      <td>0.310443</td>\n",
       "      <td>0.200889</td>\n",
       "      <td>0.052011</td>\n",
       "      <td>0.070468</td>\n",
       "      <td>0.099590</td>\n",
       "    </tr>\n",
       "    <tr>\n",
       "      <th>Query 3</th>\n",
       "      <td>0.115690</td>\n",
       "      <td>0.103854</td>\n",
       "      <td>0.194563</td>\n",
       "      <td>0.120762</td>\n",
       "      <td>0.322730</td>\n",
       "      <td>0.129222</td>\n",
       "      <td>0.261768</td>\n",
       "      <td>0.200194</td>\n",
       "      <td>0.167548</td>\n",
       "      <td>0.103854</td>\n",
       "      <td>0.115690</td>\n",
       "    </tr>\n",
       "    <tr>\n",
       "      <th>Query 4</th>\n",
       "      <td>0.144724</td>\n",
       "      <td>0.175452</td>\n",
       "      <td>0.131543</td>\n",
       "      <td>0.226517</td>\n",
       "      <td>0.249557</td>\n",
       "      <td>0.214995</td>\n",
       "      <td>0.339539</td>\n",
       "      <td>0.206882</td>\n",
       "      <td>0.168591</td>\n",
       "      <td>0.175452</td>\n",
       "      <td>0.144724</td>\n",
       "    </tr>\n",
       "    <tr>\n",
       "      <th>Query 5</th>\n",
       "      <td>0.229337</td>\n",
       "      <td>0.190014</td>\n",
       "      <td>0.095667</td>\n",
       "      <td>0.222562</td>\n",
       "      <td>0.330017</td>\n",
       "      <td>0.203857</td>\n",
       "      <td>0.242839</td>\n",
       "      <td>0.142185</td>\n",
       "      <td>0.110872</td>\n",
       "      <td>0.190014</td>\n",
       "      <td>0.229337</td>\n",
       "    </tr>\n",
       "    <tr>\n",
       "      <th>Query 6</th>\n",
       "      <td>0.092435</td>\n",
       "      <td>0.147272</td>\n",
       "      <td>0.173545</td>\n",
       "      <td>0.096595</td>\n",
       "      <td>0.171428</td>\n",
       "      <td>0.057788</td>\n",
       "      <td>0.219801</td>\n",
       "      <td>0.182564</td>\n",
       "      <td>0.211420</td>\n",
       "      <td>0.147272</td>\n",
       "      <td>0.092435</td>\n",
       "    </tr>\n",
       "    <tr>\n",
       "      <th>Query 7</th>\n",
       "      <td>0.174007</td>\n",
       "      <td>0.177980</td>\n",
       "      <td>0.213392</td>\n",
       "      <td>0.104680</td>\n",
       "      <td>0.231447</td>\n",
       "      <td>0.153244</td>\n",
       "      <td>0.285167</td>\n",
       "      <td>0.150482</td>\n",
       "      <td>0.233630</td>\n",
       "      <td>0.177980</td>\n",
       "      <td>0.174007</td>\n",
       "    </tr>\n",
       "    <tr>\n",
       "      <th>Query 8</th>\n",
       "      <td>0.129492</td>\n",
       "      <td>0.135007</td>\n",
       "      <td>0.152630</td>\n",
       "      <td>0.118768</td>\n",
       "      <td>0.170204</td>\n",
       "      <td>0.102133</td>\n",
       "      <td>0.181831</td>\n",
       "      <td>0.162573</td>\n",
       "      <td>0.278159</td>\n",
       "      <td>0.135007</td>\n",
       "      <td>0.129492</td>\n",
       "    </tr>\n",
       "  </tbody>\n",
       "</table>\n",
       "</div>"
      ],
      "text/plain": [
       "         Document 1  Document 2  Document 3  Document 4  Document 5  \\\n",
       "Query 1    0.077958    0.038245    0.133962    0.106983    0.226969   \n",
       "Query 2    0.099590    0.070468    0.066888    0.096966    0.279706   \n",
       "Query 3    0.115690    0.103854    0.194563    0.120762    0.322730   \n",
       "Query 4    0.144724    0.175452    0.131543    0.226517    0.249557   \n",
       "Query 5    0.229337    0.190014    0.095667    0.222562    0.330017   \n",
       "Query 6    0.092435    0.147272    0.173545    0.096595    0.171428   \n",
       "Query 7    0.174007    0.177980    0.213392    0.104680    0.231447   \n",
       "Query 8    0.129492    0.135007    0.152630    0.118768    0.170204   \n",
       "\n",
       "         Document 6  Document 7  Document 8  Document 9  Document 10  \\\n",
       "Query 1    0.126819    0.324864    0.217792    0.038656     0.038245   \n",
       "Query 2    0.121130    0.310443    0.200889    0.052011     0.070468   \n",
       "Query 3    0.129222    0.261768    0.200194    0.167548     0.103854   \n",
       "Query 4    0.214995    0.339539    0.206882    0.168591     0.175452   \n",
       "Query 5    0.203857    0.242839    0.142185    0.110872     0.190014   \n",
       "Query 6    0.057788    0.219801    0.182564    0.211420     0.147272   \n",
       "Query 7    0.153244    0.285167    0.150482    0.233630     0.177980   \n",
       "Query 8    0.102133    0.181831    0.162573    0.278159     0.135007   \n",
       "\n",
       "         Document 11  \n",
       "Query 1     0.077958  \n",
       "Query 2     0.099590  \n",
       "Query 3     0.115690  \n",
       "Query 4     0.144724  \n",
       "Query 5     0.229337  \n",
       "Query 6     0.092435  \n",
       "Query 7     0.174007  \n",
       "Query 8     0.129492  "
      ]
     },
     "execution_count": 7,
     "metadata": {},
     "output_type": "execute_result"
    }
   ],
   "source": [
    "def calculate_Dot_Product_Dense(dense_vector_document, dense_vector_query):\n",
    "    num_queries = dense_vector_query.shape[0]\n",
    "    num_docs = dense_vector_document.shape[0]\n",
    "    dense_score_results = []\n",
    "    \n",
    "    for query in range(num_queries):\n",
    "        dense_score_docs = []\n",
    "        for doc in range(num_docs):\n",
    "            dot_result = np.dot(dense_vector_query[query], dense_vector_document[doc])\n",
    "            dense_score_docs.append(dot_result)\n",
    "        dense_score_results.append(dense_score_docs)\n",
    "        \n",
    "    return dense_score_results\n",
    "\n",
    "\n",
    "dense_score_results = calculate_Dot_Product_Dense(dense_vector_document, dense_vector_query)\n",
    "\n",
    "dense_score_table = score_table(dense_score_results)\n",
    "dense_score_table\n",
    "    "
   ]
  },
  {
   "cell_type": "markdown",
   "id": "5020b5c3",
   "metadata": {},
   "source": [
    "# ----------------------------------------------------------"
   ]
  },
  {
   "cell_type": "markdown",
   "id": "b09ed758",
   "metadata": {},
   "source": [
    "# Calculate the final score"
   ]
  },
  {
   "cell_type": "code",
   "execution_count": 8,
   "id": "9d2c6134",
   "metadata": {
    "scrolled": false
   },
   "outputs": [
    {
     "data": {
      "text/html": [
       "<div>\n",
       "<style scoped>\n",
       "    .dataframe tbody tr th:only-of-type {\n",
       "        vertical-align: middle;\n",
       "    }\n",
       "\n",
       "    .dataframe tbody tr th {\n",
       "        vertical-align: top;\n",
       "    }\n",
       "\n",
       "    .dataframe thead th {\n",
       "        text-align: right;\n",
       "    }\n",
       "</style>\n",
       "<table border=\"1\" class=\"dataframe\">\n",
       "  <thead>\n",
       "    <tr style=\"text-align: right;\">\n",
       "      <th></th>\n",
       "      <th>Document 1</th>\n",
       "      <th>Document 2</th>\n",
       "      <th>Document 3</th>\n",
       "      <th>Document 4</th>\n",
       "      <th>Document 5</th>\n",
       "      <th>Document 6</th>\n",
       "      <th>Document 7</th>\n",
       "      <th>Document 8</th>\n",
       "      <th>Document 9</th>\n",
       "      <th>Document 10</th>\n",
       "      <th>Document 11</th>\n",
       "    </tr>\n",
       "  </thead>\n",
       "  <tbody>\n",
       "    <tr>\n",
       "      <th>Query 1</th>\n",
       "      <td>0.266100</td>\n",
       "      <td>0.377585</td>\n",
       "      <td>0.269571</td>\n",
       "      <td>0.473410</td>\n",
       "      <td>0.603978</td>\n",
       "      <td>0.341799</td>\n",
       "      <td>0.493245</td>\n",
       "      <td>0.435917</td>\n",
       "      <td>0.136205</td>\n",
       "      <td>0.373188</td>\n",
       "      <td>0.266100</td>\n",
       "    </tr>\n",
       "    <tr>\n",
       "      <th>Query 2</th>\n",
       "      <td>0.324503</td>\n",
       "      <td>0.219681</td>\n",
       "      <td>0.169559</td>\n",
       "      <td>0.296075</td>\n",
       "      <td>0.505359</td>\n",
       "      <td>0.200209</td>\n",
       "      <td>0.481966</td>\n",
       "      <td>0.348569</td>\n",
       "      <td>0.281434</td>\n",
       "      <td>0.228287</td>\n",
       "      <td>0.324503</td>\n",
       "    </tr>\n",
       "    <tr>\n",
       "      <th>Query 3</th>\n",
       "      <td>0.153645</td>\n",
       "      <td>0.119676</td>\n",
       "      <td>0.285546</td>\n",
       "      <td>0.139068</td>\n",
       "      <td>0.416846</td>\n",
       "      <td>0.187099</td>\n",
       "      <td>0.356040</td>\n",
       "      <td>0.207124</td>\n",
       "      <td>0.195489</td>\n",
       "      <td>0.120588</td>\n",
       "      <td>0.153645</td>\n",
       "    </tr>\n",
       "    <tr>\n",
       "      <th>Query 4</th>\n",
       "      <td>0.166681</td>\n",
       "      <td>0.175452</td>\n",
       "      <td>0.157920</td>\n",
       "      <td>0.226517</td>\n",
       "      <td>0.266544</td>\n",
       "      <td>0.214995</td>\n",
       "      <td>0.428582</td>\n",
       "      <td>0.259010</td>\n",
       "      <td>0.168591</td>\n",
       "      <td>0.175452</td>\n",
       "      <td>0.166681</td>\n",
       "    </tr>\n",
       "    <tr>\n",
       "      <th>Query 5</th>\n",
       "      <td>0.290604</td>\n",
       "      <td>0.205079</td>\n",
       "      <td>0.105684</td>\n",
       "      <td>0.275287</td>\n",
       "      <td>0.378720</td>\n",
       "      <td>0.325200</td>\n",
       "      <td>0.261496</td>\n",
       "      <td>0.183062</td>\n",
       "      <td>0.194384</td>\n",
       "      <td>0.205948</td>\n",
       "      <td>0.290604</td>\n",
       "    </tr>\n",
       "    <tr>\n",
       "      <th>Query 6</th>\n",
       "      <td>0.166459</td>\n",
       "      <td>0.209536</td>\n",
       "      <td>0.207605</td>\n",
       "      <td>0.192798</td>\n",
       "      <td>0.254442</td>\n",
       "      <td>0.159554</td>\n",
       "      <td>0.256521</td>\n",
       "      <td>0.227439</td>\n",
       "      <td>0.267136</td>\n",
       "      <td>0.203719</td>\n",
       "      <td>0.166459</td>\n",
       "    </tr>\n",
       "    <tr>\n",
       "      <th>Query 7</th>\n",
       "      <td>0.250586</td>\n",
       "      <td>0.194642</td>\n",
       "      <td>0.244185</td>\n",
       "      <td>0.220003</td>\n",
       "      <td>0.361672</td>\n",
       "      <td>0.188566</td>\n",
       "      <td>0.444623</td>\n",
       "      <td>0.243737</td>\n",
       "      <td>0.371042</td>\n",
       "      <td>0.195603</td>\n",
       "      <td>0.250586</td>\n",
       "    </tr>\n",
       "    <tr>\n",
       "      <th>Query 8</th>\n",
       "      <td>0.336789</td>\n",
       "      <td>0.355880</td>\n",
       "      <td>0.253950</td>\n",
       "      <td>0.406531</td>\n",
       "      <td>0.426588</td>\n",
       "      <td>0.289356</td>\n",
       "      <td>0.355287</td>\n",
       "      <td>0.303702</td>\n",
       "      <td>0.409178</td>\n",
       "      <td>0.335245</td>\n",
       "      <td>0.336789</td>\n",
       "    </tr>\n",
       "  </tbody>\n",
       "</table>\n",
       "</div>"
      ],
      "text/plain": [
       "         Document 1  Document 2  Document 3  Document 4  Document 5  \\\n",
       "Query 1    0.266100    0.377585    0.269571    0.473410    0.603978   \n",
       "Query 2    0.324503    0.219681    0.169559    0.296075    0.505359   \n",
       "Query 3    0.153645    0.119676    0.285546    0.139068    0.416846   \n",
       "Query 4    0.166681    0.175452    0.157920    0.226517    0.266544   \n",
       "Query 5    0.290604    0.205079    0.105684    0.275287    0.378720   \n",
       "Query 6    0.166459    0.209536    0.207605    0.192798    0.254442   \n",
       "Query 7    0.250586    0.194642    0.244185    0.220003    0.361672   \n",
       "Query 8    0.336789    0.355880    0.253950    0.406531    0.426588   \n",
       "\n",
       "         Document 6  Document 7  Document 8  Document 9  Document 10  \\\n",
       "Query 1    0.341799    0.493245    0.435917    0.136205     0.373188   \n",
       "Query 2    0.200209    0.481966    0.348569    0.281434     0.228287   \n",
       "Query 3    0.187099    0.356040    0.207124    0.195489     0.120588   \n",
       "Query 4    0.214995    0.428582    0.259010    0.168591     0.175452   \n",
       "Query 5    0.325200    0.261496    0.183062    0.194384     0.205948   \n",
       "Query 6    0.159554    0.256521    0.227439    0.267136     0.203719   \n",
       "Query 7    0.188566    0.444623    0.243737    0.371042     0.195603   \n",
       "Query 8    0.289356    0.355287    0.303702    0.409178     0.335245   \n",
       "\n",
       "         Document 11  \n",
       "Query 1     0.266100  \n",
       "Query 2     0.324503  \n",
       "Query 3     0.153645  \n",
       "Query 4     0.166681  \n",
       "Query 5     0.290604  \n",
       "Query 6     0.166459  \n",
       "Query 7     0.250586  \n",
       "Query 8     0.336789  "
      ]
     },
     "execution_count": 8,
     "metadata": {},
     "output_type": "execute_result"
    }
   ],
   "source": [
    "\n",
    "#funzione forse inutile\n",
    "def sum_vectors_score(dense_score, sparse_score):\n",
    "    final_score = []\n",
    "    for i in range(len(dense_score)):\n",
    "        row = []\n",
    "        for j in range(len(dense_score[i])):\n",
    "            row.append(dense_score[i][j] + sparse_score[i][j])\n",
    "        final_score.append(row)\n",
    "    return final_score\n",
    "\n",
    "\n",
    "final_score = sum_vectors_score(dense_score_results,sparse_score_results)\n",
    "final_score = np.stack(final_score)\n",
    "final_score \n",
    " \n",
    "    \n",
    "    \n",
    "    \n",
    "def table_final_score(final_score):\n",
    "    df = pd.DataFrame(final_score)\n",
    "\n",
    "    df.index = [\"Query \" + str(i+1) for i in range(len(df.index))]\n",
    "    df.columns = [\"Document \" + str(i+1) for i in range(len(df.columns))]\n",
    "\n",
    "    return df\n",
    "\n",
    "df = table_final_score(final_score)\n",
    "df\n",
    "    "
   ]
  },
  {
   "cell_type": "markdown",
   "id": "d1a18558",
   "metadata": {},
   "source": [
    "# Tok-k documents "
   ]
  },
  {
   "cell_type": "code",
   "execution_count": 9,
   "id": "4fba2e56",
   "metadata": {
    "scrolled": true
   },
   "outputs": [],
   "source": [
    "def found_top_k(final_score, k):\n",
    "    top_k = []\n",
    "    for scores in final_score:\n",
    "        sorted_scores = sorted(enumerate(scores), key=lambda x: x[1], reverse=True)[:k]\n",
    "        top_k.append([(index+1, score) for index, score in sorted_scores])\n",
    "    return top_k\n",
    "\n",
    "\n",
    "list_top_k = found_top_k(final_score,3) \n",
    "list_top_k_sparse = found_top_k(sparse_score_results,2)\n",
    "list_top_k_dense = found_top_k(dense_score_results,2)\n"
   ]
  },
  {
   "cell_type": "code",
   "execution_count": 10,
   "id": "57242a7c",
   "metadata": {
    "scrolled": true
   },
   "outputs": [
    {
     "name": "stdout",
     "output_type": "stream",
     "text": [
      "TOP-K FINAL: \n"
     ]
    }
   ],
   "source": [
    "results_k = table_final_score(list_top_k)\n",
    "print(\"TOP-K FINAL: \")\n",
    "#results_k"
   ]
  },
  {
   "cell_type": "code",
   "execution_count": 11,
   "id": "ce0cbf5e",
   "metadata": {
    "scrolled": true
   },
   "outputs": [
    {
     "name": "stdout",
     "output_type": "stream",
     "text": [
      "TOP-K SPARSE: \n"
     ]
    }
   ],
   "source": [
    "results_k_sparse = table_final_score(list_top_k_sparse)\n",
    "print(\"TOP-K SPARSE: \")\n",
    "#results_k_sparse"
   ]
  },
  {
   "cell_type": "code",
   "execution_count": 12,
   "id": "c53e2a6f",
   "metadata": {
    "scrolled": false
   },
   "outputs": [
    {
     "name": "stdout",
     "output_type": "stream",
     "text": [
      "TOP-K DENSE: \n"
     ]
    }
   ],
   "source": [
    "results_k_dense = table_final_score(list_top_k_dense)\n",
    "print(\"TOP-K DENSE: \")\n",
    "#results_k_dense"
   ]
  },
  {
   "cell_type": "code",
   "execution_count": 13,
   "id": "ca78369f",
   "metadata": {
    "scrolled": true
   },
   "outputs": [],
   "source": [
    "def printDocsQuery(documents,queries,results_k,list_top_k):  \n",
    "    for query in queries:   \n",
    "        print(\"QUERY: \"+ query[1])\n",
    "        print()\n",
    "        elem = int(query[0])-1\n",
    "        doc = [a for a, b in list_top_k[elem]]\n",
    "        for position in doc:\n",
    "            #print(documents[position][0])\n",
    "            print(position)\n",
    "            print()\n",
    "    \n",
    "\n",
    "#printDocsQuery(documents,queries,results_k,list_top_k)    "
   ]
  },
  {
   "cell_type": "markdown",
   "id": "e352577b",
   "metadata": {},
   "source": [
    "# Calculate Top-k first"
   ]
  },
  {
   "cell_type": "code",
   "execution_count": 14,
   "id": "2751cb98",
   "metadata": {
    "scrolled": true
   },
   "outputs": [],
   "source": [
    "def merge_lists(list1, list2):\n",
    "    \n",
    "    unique_set = set(list1)\n",
    "    merged_list = list(unique_set)\n",
    "    \n",
    "    return merged_list\n",
    "\n",
    "\n",
    "#CREO UNA LISTA DI LISTE CHE CONTIENE GLI INDICI.\n",
    "#FACCIO L'UNIONE \n",
    "#CONFRONTO CON GLI INDICE DEL FINAL SCORE\n",
    "#FRAZIONE : ELEMENTI IN COMUNE /k\n",
    "    \n",
    "def calculate_top_k_first(list_score, k_first,list_top_k):\n",
    "    \n",
    "    list_top_k_first_sparse = found_top_k(sparse_score_results,k_first)\n",
    "    list_top_k_first_dense = found_top_k(dense_score_results,k_first)\n",
    "    \n",
    "    union_list_top_k_first = merge_lists(list_top_k_first_sparse,list_top_k_first_dense)   \n",
    "    \n",
    "    return union_list_top_k_first\n",
    " \n",
    "\n",
    "#calculate_top_k_first(list_top_k, 2,list_top_k)"
   ]
  },
  {
   "cell_type": "markdown",
   "id": "53f305ae",
   "metadata": {},
   "source": [
    "# --------------------------------------------------------"
   ]
  },
  {
   "cell_type": "markdown",
   "id": "af55bf99",
   "metadata": {},
   "source": [
    "#  PARTIAMO DA QUI"
   ]
  },
  {
   "cell_type": "markdown",
   "id": "193bd1a8",
   "metadata": {},
   "source": [
    "# Calculate the finale score"
   ]
  },
  {
   "cell_type": "code",
   "execution_count": 15,
   "id": "c9455aba",
   "metadata": {
    "scrolled": true
   },
   "outputs": [],
   "source": [
    "import numpy as np\n",
    "\n",
    "\n",
    "def calculate_full_score(sparse_score_results,dense_score_results):\n",
    "    sparse_vector = np.stack(sparse_score_results)\n",
    "    dense_vector = np.stack(dense_score_results)\n",
    "    full_vector = sparse_vector + dense_vector\n",
    "    \n",
    "    return full_vector, dense_vector,sparse_vector\n",
    "    \n",
    "full_vector, dense_vector,sparse_vector = calculate_full_score(sparse_score_results,dense_score_results)"
   ]
  },
  {
   "cell_type": "code",
   "execution_count": null,
   "id": "2369b8ff",
   "metadata": {},
   "outputs": [],
   "source": []
  },
  {
   "cell_type": "markdown",
   "id": "e7961c0f",
   "metadata": {},
   "source": [
    "# Choose the query that you want analiyze"
   ]
  },
  {
   "cell_type": "code",
   "execution_count": 16,
   "id": "b9fc3abd",
   "metadata": {},
   "outputs": [],
   "source": [
    "\n",
    "def choose_query(n):\n",
    "    score_sparse = sparse_vector [n]\n",
    "    score_dense = dense_vector [n]\n",
    "    score_full = full_vector [n]\n",
    "    \n",
    "    return score_sparse, score_dense,score_full\n",
    "\n",
    "score_sparse, score_dense,score_full = choose_query(0)    "
   ]
  },
  {
   "cell_type": "code",
   "execution_count": 17,
   "id": "e90957e2",
   "metadata": {},
   "outputs": [],
   "source": [
    "K = 4\n",
    "K_p = 4\n"
   ]
  },
  {
   "cell_type": "code",
   "execution_count": 18,
   "id": "d337c8be",
   "metadata": {},
   "outputs": [
    {
     "data": {
      "text/plain": [
       "array([4, 6, 3, 7], dtype=int64)"
      ]
     },
     "execution_count": 18,
     "metadata": {},
     "output_type": "execute_result"
    }
   ],
   "source": [
    "def ground_truth_tok_k(K):\n",
    "    ground_truth = np.argsort(score_full)[::-1][:K]\n",
    "    \n",
    "    return ground_truth \n",
    "\n",
    "ground_truth = ground_truth_tok_k(K)\n",
    "ground_truth\n"
   ]
  },
  {
   "cell_type": "markdown",
   "id": "e24f5d55",
   "metadata": {},
   "source": [
    "# For sparse and dense vector we take the best k_p elements"
   ]
  },
  {
   "cell_type": "code",
   "execution_count": 19,
   "id": "e088ea73",
   "metadata": {},
   "outputs": [],
   "source": [
    "def best_top_k_first(K_p,score_dense,score_sparse):\n",
    "    \n",
    "    best_dense = np.argsort(score_dense)[::-1][:K_p]\n",
    "    best_sparse = np.argsort(score_sparse)[::-1][:K_p]\n",
    "    \n",
    "    return best_sparse, best_dense\n",
    "\n",
    "\n",
    "best_sparse, best_dense = best_top_k_first(K_p,score_dense,score_sparse)    "
   ]
  },
  {
   "cell_type": "markdown",
   "id": "ac1a71a7",
   "metadata": {},
   "source": [
    "# Union, without duplicate, of best sparse and best dense elements of vectors"
   ]
  },
  {
   "cell_type": "code",
   "execution_count": 36,
   "id": "9edd2dc3",
   "metadata": {},
   "outputs": [
    {
     "data": {
      "text/plain": [
       "[1, 2, 3, 4, 6, 7, 9]"
      ]
     },
     "execution_count": 36,
     "metadata": {},
     "output_type": "execute_result"
    }
   ],
   "source": [
    "def union_best_vectors(best_sparse, best_dense):\n",
    "    best_index_score = list(set(list(best_sparse) + list(best_dense))) #union\n",
    "    return best_index_score\n",
    "\n",
    "best_index_score = union_best_vectors(best_sparse, best_dense)"
   ]
  },
  {
   "cell_type": "markdown",
   "id": "46c2786c",
   "metadata": {},
   "source": [
    "# Take the best score from the final score list using the indexes of sparse and dense union list and also return the best indexes sorted"
   ]
  },
  {
   "cell_type": "code",
   "execution_count": 21,
   "id": "0aa728da",
   "metadata": {},
   "outputs": [
    {
     "data": {
      "text/plain": [
       "array([3, 4, 2, 5, 0, 6, 1], dtype=int64)"
      ]
     },
     "execution_count": 21,
     "metadata": {},
     "output_type": "execute_result"
    }
   ],
   "source": [
    "def best_full_score(best_index_score):\n",
    "    \n",
    "    best_full_score = score_full[best_index_score]\n",
    "    order_best_full_score = np.argsort(best_full_score)[::-1]  #questo lo ordino per ordinare i miei best\n",
    "        \n",
    "    return best_full_score, order_best_full_score\n",
    "\n",
    "best_full_score, order_best_full_score = best_full_score(best_index_score)\n",
    "\n",
    "order_best_full_score"
   ]
  },
  {
   "cell_type": "code",
   "execution_count": 22,
   "id": "a3077653",
   "metadata": {
    "scrolled": true
   },
   "outputs": [
    {
     "data": {
      "text/plain": [
       "array([0.37758475, 0.26957123, 0.47341027, 0.60397772, 0.49324487,\n",
       "       0.43591741, 0.37318842])"
      ]
     },
     "execution_count": 22,
     "metadata": {},
     "output_type": "execute_result"
    }
   ],
   "source": [
    "best_full_score"
   ]
  },
  {
   "cell_type": "code",
   "execution_count": 41,
   "id": "04629ca9",
   "metadata": {
    "scrolled": false
   },
   "outputs": [
    {
     "data": {
      "text/plain": [
       "array([0.60397772, 0.49324487, 0.47341027, 0.43591741, 0.37758475,\n",
       "       0.37318842, 0.26957123])"
      ]
     },
     "execution_count": 41,
     "metadata": {},
     "output_type": "execute_result"
    }
   ],
   "source": [
    "\n",
    "actual_order = np.array(best_full_score)[list(order_best_full_score)]\n",
    "actual_order"
   ]
  },
  {
   "cell_type": "code",
   "execution_count": 31,
   "id": "16864f6c",
   "metadata": {
    "scrolled": false
   },
   "outputs": [
    {
     "data": {
      "text/plain": [
       "array([4, 6, 3, 7], dtype=int64)"
      ]
     },
     "execution_count": 31,
     "metadata": {},
     "output_type": "execute_result"
    }
   ],
   "source": [
    "retrieved = actual_order[:K]\n",
    "retrieved"
   ]
  },
  {
   "cell_type": "code",
   "execution_count": 25,
   "id": "8e027532",
   "metadata": {},
   "outputs": [
    {
     "data": {
      "text/plain": [
       "{3, 4, 6, 7}"
      ]
     },
     "execution_count": 25,
     "metadata": {},
     "output_type": "execute_result"
    }
   ],
   "source": [
    "relevant = set(retrieved).intersection(ground_truth)\n",
    "relevant"
   ]
  },
  {
   "cell_type": "code",
   "execution_count": 26,
   "id": "24eca822",
   "metadata": {},
   "outputs": [
    {
     "data": {
      "text/plain": [
       "1.0"
      ]
     },
     "execution_count": 26,
     "metadata": {},
     "output_type": "execute_result"
    }
   ],
   "source": [
    "len(relevant)/len(ground_truth)  # recall "
   ]
  },
  {
   "cell_type": "code",
   "execution_count": null,
   "id": "3e5e56ae",
   "metadata": {},
   "outputs": [],
   "source": []
  }
 ],
 "metadata": {
  "kernelspec": {
   "display_name": "Python 3 (ipykernel)",
   "language": "python",
   "name": "python3"
  },
  "language_info": {
   "codemirror_mode": {
    "name": "ipython",
    "version": 3
   },
   "file_extension": ".py",
   "mimetype": "text/x-python",
   "name": "python",
   "nbconvert_exporter": "python",
   "pygments_lexer": "ipython3",
   "version": "3.9.13"
  }
 },
 "nbformat": 4,
 "nbformat_minor": 5
}
